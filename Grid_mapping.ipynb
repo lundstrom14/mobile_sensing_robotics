{
 "cells": [
  {
   "cell_type": "markdown",
   "metadata": {},
   "source": [
    "# Occupancy Grid Maps\n",
    "\n",
    "\n",
    "## Mapping Task\n",
    "Mappig task on three assumptions\n",
    "1. Each cell is a Binary Random Variable that models the environment\n",
    "2. World is static\n",
    "3. Cells are independent\n",
    "\n",
    "$$p(m|z_{1:t},x_{1:t}) = \\prod_i p(m_i|z_{1:t},x_{1:t}))$$\n",
    "\n",
    "Using Bayes rule + Markov Assumption (\"If I know the state of a point in time, what happened in the past do not affect the future\"), we can estimate the above to be\n",
    "$$p(m_i|z_{1:t}, x_{1:t}) = \\frac{p(m_i|z_t, x_t) p(z_t | x_t) p(m_i|z_{1:t-1}, x_{1:t-1})} {p(m_i) p(z_t|z_{1:t-1}, x_{1:t})}$$\n",
    "\n",
    "By utilizing that it is a Binary Random variable we can do exactly the same for the opposite event and compute the ratio\n",
    "$$\\frac{p(m_i|z_{1:t} x_{1:t})}{p(-m_i|z_{1:t}, x_{1:t})} = \\frac{p(m_i|z_t, x_t)}{1 - p(m_i|z_t, x_t)} \\frac{p(m_i|z_{1:t-1}, x_{1:t-1})}{1 - p(m_i|z_{1:t-1}, x_{1:t-1})} \\frac{1 - p(m_i)}{p(m_i)} $$\n",
    "\n",
    "This is the three terms we want to use. \n",
    "1. **1st** term is called the inverse sensor model term. It uses current observations $z_t$\n",
    "2. **2nd** term is a recursive term. Cell estimate using observations $z_{t-1}$\n",
    "3. **3rd** term is the prior information term, the prior assumptions of occupancy\n",
    "\n",
    "# Log-Odds\n",
    "Using log-odds we can turn the product into a sum for efficieny. \n",
    "\n",
    "# Finally\n",
    "In short, we solve for grid map occupancy with \n",
    "$$\n",
    "l_{t,i} = \\texttt{inv\\_sensor\\_model}(m_i,x_t,z_t)  + l_{t-1,i} - l_0\n",
    "$$"
   ]
  },
  {
   "cell_type": "markdown",
   "metadata": {},
   "source": [
    "# Exercise 3\n",
    "\n",
    "## Occupancy grid mapping\n",
    "\n",
    "The aim of this assignment is to implement a 2D occupancy grid mapping algorithm as described in the lecture. We provide data recorded by a robot using a 2D laser scanner in an indoor environment. \n",
    "\n",
    "The raw data is arranged in the following manner:\n",
    "\n",
    "- `poses.data`: contains the **known** robot poses as it moves around the environment. Each line corresponds to the pose of the robot at a time instant\n",
    "\n",
    "- `ranges.data`: contains 2d laser range measurements recorded by the robot. Each line corresponds to the range measurements taken from the corresponding robot poses.\n",
    "\n",
    "---\n",
    "\n",
    "### Log odds to probability\n",
    "\n",
    "The occupancy calculations are usually performed using the log odds. We will need to convert between log odds and probabilities in this exercise. Implement the `logodds2prob` and `prob2logodds` functions. Verify that the conversion functions are correct for some test input. **[2.0]**"
   ]
  },
  {
   "cell_type": "code",
   "execution_count": 5,
   "metadata": {},
   "outputs": [
    {
     "name": "stdout",
     "output_type": "stream",
     "text": [
      "Requirement already satisfied: bresenham in c:\\programdata\\anaconda3\\lib\\site-packages (0.2.1)\n",
      "Note: you may need to restart the kernel to use updated packages.\n"
     ]
    }
   ],
   "source": [
    "#pip install bresenham"
   ]
  },
  {
   "cell_type": "code",
   "execution_count": 101,
   "metadata": {},
   "outputs": [
    {
     "name": "stdout",
     "output_type": "stream",
     "text": [
      "The autoreload extension is already loaded. To reload it, use:\n",
      "  %reload_ext autoreload\n"
     ]
    }
   ],
   "source": [
    "import math\n",
    "from src.ex3 import *\n",
    "%matplotlib inline\n",
    "%load_ext autoreload\n",
    "%autoreload 2\n",
    "\n",
    "# Computes the probability from log-odds form\n",
    "def logodds2prob(l):\n",
    "    return 1-(1/(1+np.exp(l)))\n",
    "\n",
    "# Computes the log-odds from probability\n",
    "def prob2logodds(p):\n",
    "    return np.log(p/(1-p))"
   ]
  },
  {
   "cell_type": "markdown",
   "metadata": {},
   "source": [
    "---\n",
    "### Inverse sensor model\n",
    "\n",
    "The occupancy grid mapping relies on as inverse sensor model to update the occupancy of a cell in the grid. For this exercise, we consider a simple sensor model, where the occupancy of cell $m_i$ is $P_{occ}$ if the measurement $z_t$ falls in that cell, otherwise the occupancy is $P_{free}$. \n",
    "\n",
    "However, if the cell $m_i$ is not in the perception field, the occupancy will be $P_{prior}$.\n",
    "\n",
    "Use the  following probabilities in the implementation:\n",
    "$$P_{occ} = 0.9, P_{free} = 0.35, P_{prior} = 0.5 $$\n",
    "\n",
    "Implement the inverse sensor model function and verify that it is correct for some test input. **[2.0]**"
   ]
  },
  {
   "cell_type": "code",
   "execution_count": 102,
   "metadata": {},
   "outputs": [
    {
     "name": "stdout",
     "output_type": "stream",
     "text": [
      "[[1.   1.   0.35]\n",
      " [2.   2.   0.35]\n",
      " [3.   3.   0.35]\n",
      " [3.   4.   0.35]\n",
      " [4.   5.   0.35]\n",
      " [5.   6.   0.35]\n",
      " [6.   7.   0.35]\n",
      " [6.   8.   0.35]\n",
      " [7.   9.   0.9 ]]\n"
     ]
    }
   ],
   "source": [
    "cell = [1, 1]\n",
    "endpoint = [7,9]\n",
    "prob_occ = 0.9\n",
    "prob_free = 0.35\n",
    "\n",
    "def inv_sensor_model(cell, endpoint, prob_occ, prob_free):\n",
    "    line = bresenham(cell[0], cell[1], endpoint[0], endpoint[1])\n",
    "    p_values = [0] * len(line)\n",
    "    for i in range(len(line) - 1):\n",
    "        p_values[i] = prob_free\n",
    "    \n",
    "    p_values[-1] = prob_occ\n",
    "    inv_sensor_model = np.zeros((len(line),3))\n",
    "    for i, l in enumerate(line):\n",
    "        inv_sensor_model[i] = [*l, p_values[i]]\n",
    "\n",
    "    return inv_sensor_model\n",
    "\n",
    "test = inv_sensor_model(cell, endpoint, prob_occ, prob_free)\n",
    "print(test)\n"
   ]
  },
  {
   "cell_type": "markdown",
   "metadata": {},
   "source": [
    "---\n",
    "### Occupancy grid mapping algorithm:\n",
    "\n",
    "Implement the occupancy grid mapping algorithm as described in lecture slides. \n",
    "\n",
    "We provide some functions to make the implemntation easier.\n",
    "\n",
    "- `ranges2cells` converts the raw measurements acquired by the robot (*ranges_raw*) into the correspoding cells of the gridmap.\n",
    "- `poses2cells` converts the raw poses of the robot (*poses_raw*) into the correspoding cells of the gridmap.\n",
    "- `bresenham` returns all the cells along a straigh line between two points in the gridmap.\n",
    "\n",
    "Other parameters you may need in the implemntation are provided below.\n",
    "\n",
    "Implement the `grid_mapping_with_known_poses` functionn and compute the resulting occupancy grid map using all the measurements provided in the data.\n",
    "\n",
    "Plot the final occupancy gridmap using the `plot_gridmap` function. **[6.0]**\n"
   ]
  },
  {
   "cell_type": "code",
   "execution_count": 100,
   "metadata": {},
   "outputs": [
    {
     "name": "stdout",
     "output_type": "stream",
     "text": [
      "The autoreload extension is already loaded. To reload it, use:\n",
      "  %reload_ext autoreload\n",
      "Pose: 10\n",
      "Pose: 20\n",
      "Pose: 30\n",
      "Pose: 40\n",
      "Pose: 50\n",
      "Pose: 60\n",
      "Pose: 70\n",
      "Pose: 80\n",
      "Pose: 90\n",
      "Pose: 100\n",
      "Pose: 110\n",
      "Pose: 120\n",
      "Pose: 130\n",
      "Pose: 140\n",
      "Pose: 150\n",
      "Pose: 160\n",
      "Pose: 170\n",
      "Pose: 180\n",
      "Pose: 190\n",
      "Pose: 200\n",
      "Pose: 210\n",
      "Pose: 220\n",
      "Pose: 230\n",
      "Pose: 240\n",
      "Pose: 250\n",
      "Pose: 260\n",
      "Pose: 270\n",
      "Pose: 280\n",
      "Pose: 290\n",
      "Pose: 300\n",
      "Pose: 310\n",
      "Pose: 320\n",
      "Pose: 330\n",
      "Pose: 340\n",
      "Pose: 350\n",
      "Pose: 360\n",
      "Pose: 370\n",
      "Pose: 380\n",
      "Pose: 390\n",
      "Pose: 400\n",
      "Pose: 410\n",
      "Pose: 420\n",
      "Pose: 430\n",
      "Pose: 440\n",
      "Pose: 450\n",
      "Pose: 460\n",
      "Pose: 470\n",
      "Pose: 480\n",
      "Pose: 490\n",
      "Pose: 500\n",
      "Pose: 510\n",
      "Pose: 520\n",
      "Pose: 530\n",
      "Pose: 540\n",
      "Pose: 550\n",
      "Pose: 560\n",
      "Pose: 570\n",
      "Pose: 580\n",
      "Pose: 590\n",
      "Pose: 600\n",
      "Pose: 610\n",
      "Pose: 620\n",
      "Pose: 630\n",
      "Pose: 640\n",
      "Pose: 650\n",
      "Pose: 660\n",
      "Pose: 670\n",
      "Pose: 680\n"
     ]
    },
    {
     "data": {
      "image/png": "[encoded data removed]",
      "text/plain": [
       "<Figure size 432x288 with 1 Axes>"
      ]
     },
     "metadata": {
      "needs_background": "light"
     },
     "output_type": "display_data"
    },
    {
     "data": {
      "image/png": "[encoded data removed]",
      "text/plain": [
       "<Figure size 432x288 with 1 Axes>"
      ]
     },
     "metadata": {
      "needs_background": "light"
     },
     "output_type": "display_data"
    }
   ],
   "source": [
    "from src.ex3 import *\n",
    "import numpy as np\n",
    "%matplotlib inline\n",
    "%load_ext autoreload\n",
    "%autoreload 2\n",
    "\n",
    "map_size = 100\n",
    "map_res = 0.25\n",
    "\n",
    "prior = 0.50\n",
    "prob_occ = 0.90\n",
    "prob_free = 0.35\n",
    "\n",
    "# load data\n",
    "ranges_raw = np.loadtxt(\"data/grid_mapping/ranges.data\", delimiter=',', dtype='float')\n",
    "poses_raw = np.loadtxt(\"data/grid_mapping/poses.data\", delimiter=',', dtype='float')\n",
    "\n",
    "# initialize gridmap\n",
    "occ_gridmap = init_gridmap(map_size, map_res)+prior\n",
    "plot_gridmap(occ_gridmap)\n",
    "\n",
    "updated_gridmap = grid_mapping_with_known_poses(ranges_raw, poses_raw, occ_gridmap, map_res, prob_occ, prob_free, prior)\n",
    "\n",
    "plot_gridmap(updated_gridmap)\n",
    "\n"
   ]
  },
  {
   "cell_type": "code",
   "execution_count": null,
   "metadata": {},
   "outputs": [],
   "source": []
  }
 ],
 "metadata": {
  "kernelspec": {
   "display_name": "Python 3",
   "language": "python",
   "name": "python3"
  },
  "language_info": {
   "codemirror_mode": {
    "name": "ipython",
    "version": 3
   },
   "file_extension": ".py",
   "mimetype": "text/x-python",
   "name": "python",
   "nbconvert_exporter": "python",
   "pygments_lexer": "ipython3",
   "version": "3.7.6"
  }
 },
 "nbformat": 4,
 "nbformat_minor": 4
}
