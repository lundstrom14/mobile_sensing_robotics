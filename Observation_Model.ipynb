{
 "cells": [
  {
   "cell_type": "markdown",
   "metadata": {},
   "source": [
    "# Exercise 5: Observation model\n",
    "\n",
    "\n",
    "## 5.1 Implement model for perceiving landmarks\n",
    "\n",
    "Consider a robot that operates in an environment populated by **range-only** sensors such as _beacons_.\n",
    "These sensors transmit a signal that allows for obtaining noisy measurements of their distance from a receiver mounted on the robot.\n",
    "\n",
    "The function `landmark_observation_model` realizes the observation model for perceiving landmarks with a range sensor. It takes as input:\n",
    " \n",
    "- the observed noisy range $z$\n",
    "- the standard deviation of the measurement $\\sigma_z$ (zero-mean Gaussian noise)\n",
    "- the position of the robot in the map $x$\n",
    "- the position of the beacon transmitting beacon in the map $m$\n",
    "\n",
    "The output of this function is the probability $p(z | x, m)$ that the measurement $z$ was obtained at position $x$.\n",
    "\n",
    "Implement the `landmark_observation_model` function and verify that it is correct for some test input. **[2.0]**"
   ]
  },
  {
   "cell_type": "code",
   "execution_count": null,
   "metadata": {},
   "outputs": [],
   "source": []
  },
  {
   "cell_type": "markdown",
   "metadata": {},
   "source": [
    "---\n",
    "\n",
    "## 5.2 Compute likelihood of measurement in the environment\n",
    "\n",
    "The robot operates in an environment that is represetend by a 20x20 grid map and contains a beacon at position $m_1 = [0,0]$ (top-left corner). \n",
    "\n",
    "The robot obtains a range measurement of the beacon $z_1 = 10$ and the sensor noise is $\\sigma_{z1} = 1$.\n",
    "\n",
    "Compute the `landmark_observation_model` at each cell of the environment and plot the likelihood of the observation over the environment. **[1.0]** "
   ]
  },
  {
   "cell_type": "code",
   "execution_count": null,
   "metadata": {},
   "outputs": [],
   "source": []
  },
  {
   "cell_type": "markdown",
   "metadata": {},
   "source": [
    "---\n",
    "\n",
    "## 5.3 Multiple landmarks\n",
    "\n",
    "Assume that we install two **additional** beacons in our environment:\n",
    "\n",
    "- $m_2 = [0, 10]$\n",
    "- $m_3 = [10, 0]$\n",
    "\n",
    "from which we obtain the following observations:\n",
    "\n",
    "- $z_2 = 5$ with $\\sigma_{z2} = 3$\n",
    "- $z_3 = 9$ with $\\sigma_{z3} = 2$\n",
    "\n",
    "Compute the `landmark_observation_model` at each cell of the environment considering the measurements from **all** beacons and plot the **joint** likelihood of the observations over the environment. **[2.0]** "
   ]
  },
  {
   "cell_type": "code",
   "execution_count": null,
   "metadata": {},
   "outputs": [],
   "source": []
  }
 ],
 "metadata": {
  "kernelspec": {
   "display_name": "Python 3",
   "language": "python",
   "name": "python3"
  },
  "language_info": {
   "codemirror_mode": {
    "name": "ipython",
    "version": 3
   },
   "file_extension": ".py",
   "mimetype": "text/x-python",
   "name": "python",
   "nbconvert_exporter": "python",
   "pygments_lexer": "ipython3",
   "version": "3.5.2"
  }
 },
 "nbformat": 4,
 "nbformat_minor": 4
}
