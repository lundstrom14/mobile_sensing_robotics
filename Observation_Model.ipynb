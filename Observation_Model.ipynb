{
 "cells": [
  {
   "cell_type": "markdown",
   "metadata": {},
   "source": [
    "#  Observation models\n",
    "\n",
    "## Model for Laser Scanners\n",
    "Scan _z_ consists of _K_ measurements.\n",
    "$$\n",
    "z_t = {z^1_t, ... , z^lk_t}\n",
    "$$\n",
    "The idividual measurements are independent given the sensor position. _(m is for example a occupancy grid map or a feature map)_\n",
    "$$\n",
    "p(z_t\\:|\\:x_t, m) = \\prod^k_{i=1}p(z^i_t\\:|\\:x_t,m)\n",
    "$$\n",
    "\n",
    "<img src=\"./res/laser_scan.png\" alt=\"laser_scan\" width=\"200\"/>\n",
    "\n",
    "Simplest ray-casting model assumes gaussian noise at the distance. It is often advised to use a more advanced model in order to handle inconsistencies in our assumptions (static world). \n",
    "\n",
    "A more advanced ray-cast model can be a mixture of four models: considers different effects (dynamic objects, random, max-range, noise).\n",
    "\n",
    "### Beam-Based Proximity Model\n",
    "Can be though of as a mixture of four models.\n",
    "\n",
    "**Measurement noise**\n",
    "$$\n",
    "P_{hit}(z \\: | \\: x,m) = (2\\pi\\sigma^2)^{-1/2}\\text{exp}(-\\frac{1}{2}\\frac{(z-z_{exp})^2}{\\sigma^2})\n",
    "$$\n",
    "**Unexpected obstacles**:\n",
    "$$\n",
    "P_{unexp}(z\\: | x,m) = \\begin{cases}\n",
    "        \\lambda \\: \\text{exp}(-\\lambda z) & z < z_{exp}\\\\\n",
    "        0 & \\text{otherwise}\n",
    "        \\end{cases}\n",
    "$$\n",
    "**Random measurement** \n",
    "$$\n",
    "P_{rand}(z\\:|\\:x,m) = \\text{const.}\n",
    "$$\n",
    "**Max range/no return**\n",
    "$$\n",
    "P_{max}(z\\:|\\:x,m) = \\begin{cases}\n",
    "        \\text{const.} & z = z_{max} \\\\\n",
    "        0 & \\text{otherwise}\n",
    "        \\end{cases}\n",
    "$$\n",
    "<img src=\"./res/mixture_model.png\" alt=\"mixture_model\" width=\"300\"/>\n",
    "\n",
    "**How to determine the parameters?** \n",
    "\n",
    "Some are easy, some can be measured in a controlled environment. We can also learn paramters from data. \n",
    "\n",
    "## Model for perceiving Landmakrs with Range-Bearing Sensors\n",
    "* Range bearing $z^i_t = (r^i_t, \\: \\phi^i_t)^T$\n",
    "* Pose $(x,y,\\phi)^T$\n",
    "* Observation of feature _j_ at location $(m_{j,x},\\: m_{j,y})$\n",
    "$$\n",
    "(r^i_t,\\: \\phi^i_t) = (\\:\\sqrt{(m_{j,x}-x)^2 + (m_{j,y} -y)^2 + Q_t}\\:, \\: \\text{atan2}(m_{j,y}-y,\\:m_{j,x}-x) - \\phi + Q_t)\n",
    "$$\n",
    "* Gaussian noise with covariance $Q_t$ in range and bearing measurement\n",
    "\n",
    "\n",
    "\n"
   ]
  },
  {
   "cell_type": "markdown",
   "metadata": {},
   "source": [
    "# Exercise 5: Observation model\n",
    "\n",
    "\n",
    "## 5.1 Implement model for perceiving landmarks\n",
    "\n",
    "Consider a robot that operates in an environment populated by **range-only** sensors such as _beacons_.\n",
    "These sensors transmit a signal that allows for obtaining noisy measurements of their distance from a receiver mounted on the robot.\n",
    "\n",
    "The function `landmark_observation_model` realizes the observation model for perceiving landmarks with a range sensor. It takes as input:\n",
    " \n",
    "- the observed noisy range $z$\n",
    "- the standard deviation of the measurement $\\sigma_z$ (zero-mean Gaussian noise)\n",
    "- the position of the robot in the map $x$\n",
    "- the position of the beacon transmitting beacon in the map $m$\n",
    "\n",
    "The output of this function is the probability $p(z | x, m)$ that the measurement $z$ was obtained at position $x$.\n",
    "\n",
    "Implement the `landmark_observation_model` function and verify that it is correct for some test input. **[2.0]**"
   ]
  },
  {
   "cell_type": "code",
   "execution_count": 1,
   "metadata": {},
   "outputs": [],
   "source": [
    "from src.obs_model import *\n",
    "%matplotlib inline\n",
    "%load_ext autoreload\n",
    "%autoreload 2\n",
    "\n",
    "import math\n",
    "import numpy as np"
   ]
  },
  {
   "cell_type": "code",
   "execution_count": 2,
   "metadata": {},
   "outputs": [
    {
     "data": {
      "text/plain": [
       "2.6596152026762176"
      ]
     },
     "execution_count": 2,
     "metadata": {},
     "output_type": "execute_result"
    }
   ],
   "source": [
    "x = np.array([0, 3, 3]).T\n",
    "m = np.array([3, 3])\n",
    "z = 3\n",
    "sigma = 0.15\n",
    "\n",
    "\n",
    "def landmark_observation_model(z, sigma, x, m):\n",
    "    # Expected range z is the position of transmitted beacon minus the robot location (x,y)\n",
    "    z_exp = np.sqrt((m[0]-x[0])**2 + (m[1]-x[1])**2)\n",
    "\n",
    "    # P_hit calculation from measurement noise\n",
    "    P_hit_exp = np.exp( ((z-z_exp)**2)/(-2*sigma**2) );\n",
    "    P_hit = (1/np.sqrt(2*math.pi*sigma**2)) * P_hit_exp    \n",
    "    return P_hit\n",
    "\n",
    "\n",
    "prob_z = landmark_observation_model(z, sigma, x , m)\n",
    "prob_z\n"
   ]
  },
  {
   "cell_type": "markdown",
   "metadata": {},
   "source": [
    "---\n",
    "\n",
    "## 5.2 Compute likelihood of measurement in the environment\n",
    "\n",
    "The robot operates in an environment that is represetend by a 20x20 grid map and contains a beacon at position $m_1 = [0,0]$ (top-left corner). \n",
    "\n",
    "The robot obtains a range measurement of the beacon $z_1 = 10$ and the sensor noise is $\\sigma_{z1} = 1$.\n",
    "\n",
    "Compute the `landmark_observation_model` at each cell of the environment and plot the likelihood of the observation over the environment. **[1.0]** "
   ]
  },
  {
   "cell_type": "code",
   "execution_count": 3,
   "metadata": {},
   "outputs": [
    {
     "data": {
      "image/png": "[encoded data removed]",
      "text/plain": [
       "<Figure size 432x288 with 1 Axes>"
      ]
     },
     "metadata": {
      "needs_background": "light"
     },
     "output_type": "display_data"
    }
   ],
   "source": [
    "\n",
    "gridmap = np.zeros([20,20]) # Grid is a square, here 20x20\n",
    "m = np.array([0, 0]) # Beacon at top-left corner\n",
    "z = 10\n",
    "sigma = 1\n",
    "\n",
    "for x in range(20):\n",
    "    for y in range(20):\n",
    "        gridmap[x, y] = landmark_observation_model(z, sigma, np.array([x, y]), m)\n",
    "\n",
    "plot_gridmap(gridmap)\n"
   ]
  },
  {
   "cell_type": "markdown",
   "metadata": {},
   "source": [
    "---\n",
    "\n",
    "## 5.3 Multiple landmarks\n",
    "\n",
    "Assume that we install two **additional** beacons in our environment:\n",
    "\n",
    "- $m_2 = [0, 10]$\n",
    "- $m_3 = [10, 0]$\n",
    "\n",
    "from which we obtain the following observations:\n",
    "\n",
    "- $z_2 = 5$ with $\\sigma_{z2} = 3$\n",
    "- $z_3 = 9$ with $\\sigma_{z3} = 2$\n",
    "\n",
    "Compute the `landmark_observation_model` at each cell of the environment considering the measurements from **all** beacons and plot the **joint** likelihood of the observations over the environment. **[2.0]** "
   ]
  },
  {
   "cell_type": "code",
   "execution_count": 4,
   "metadata": {},
   "outputs": [
    {
     "data": {
      "image/png": "[encoded data removed]",
      "text/plain": [
       "<Figure size 432x288 with 1 Axes>"
      ]
     },
     "metadata": {
      "needs_background": "light"
     },
     "output_type": "display_data"
    }
   ],
   "source": [
    "# Input data\n",
    "\n",
    "m2 = np.array([0,10])\n",
    "m3 = np.array([10,0])\n",
    "\n",
    "z2 = 5\n",
    "sigma2 = 3\n",
    "\n",
    "z3 = 9\n",
    "sigma3 = 2\n",
    "\n",
    "# Calculate joint probabiltiy from multiple landmarks\n",
    "gridmap = np.zeros([20,20]) # Grid is a square, here 20x20\n",
    "m = np.array([m2, m3])\n",
    "z = np.array([z2, z3])\n",
    "sigma = np.array([sigma2, sigma3])\n",
    "for x in range(20):\n",
    "    for y in range(20):\n",
    "        # Calculate joint probabiltiy for all beacons i\n",
    "        p_z = 1 \n",
    "        for i in range(len(m)):\n",
    "            p_i = landmark_observation_model(z[i], sigma[i], np.array([x, y]), m[i])\n",
    "            p_z = p_z * p_i\n",
    "        gridmap[x, y] = p_z\n",
    "        \n",
    "plot_gridmap(gridmap)\n"
   ]
  },
  {
   "cell_type": "markdown",
   "metadata": {},
   "source": [
    "# Interactive plot"
   ]
  },
  {
   "cell_type": "code",
   "execution_count": 6,
   "metadata": {},
   "outputs": [
    {
     "data": {
      "image/png": "[encoded data removed]",
      "text/plain": [
       "<Figure size 432x288 with 3 Axes>"
      ]
     },
     "metadata": {
      "needs_background": "light"
     },
     "output_type": "display_data"
    }
   ],
   "source": [
    "# Uncomment this for interactive plots in jupyter notebook\n",
    "#%matplotlib notebook\n",
    "\n",
    "import numpy as np\n",
    "import matplotlib.pyplot as plt\n",
    "from matplotlib.widgets import Slider, Button\n",
    "\n",
    "\n",
    "# Define initial parameters\n",
    "m = np.array([8, 8]) # Beacon at top-left corner\n",
    "init_z = 5 # Range\n",
    "init_std = 0.8\n",
    "\n",
    "# Create the figure that we will manipulate\n",
    "fig, ax = plt.subplots()\n",
    "gridmap = np.zeros([20,20]) # Grid is a square, here 20x20\n",
    "def get_grid(z, sigma, m):\n",
    "    for x in range(20):\n",
    "        for y in range(20):\n",
    "            gridmap[x, y] = landmark_observation_model(z, sigma, np.array([x, y]), m)\n",
    "get_grid(init_z, init_std, m)\n",
    "ax.imshow(gridmap, cmap='Greys')\n",
    "\n",
    "# Make a vertically oriented slider to control the amplitude\n",
    "axstd = plt.axes([0.1, 0.25, 0.0225, 0.63])\n",
    "std_slider = Slider(\n",
    "    ax=axstd,\n",
    "    label=\"Sigma\",\n",
    "    valmin=0.1,\n",
    "    valmax=3,\n",
    "    valinit=init_std,\n",
    "    orientation=\"vertical\"\n",
    ")\n",
    "\n",
    "axz = plt.axes([0.2, 0.25, 0.0225, 0.63])\n",
    "z_slider = Slider(\n",
    "    ax=axz,\n",
    "    label=\"Range\",\n",
    "    valmin=1,\n",
    "    valmax=15,\n",
    "    valinit=init_z,\n",
    "    orientation=\"vertical\"\n",
    ")\n",
    "\n",
    "\n",
    "# The function to be called anytime a slider's value changes\n",
    "def update(val):\n",
    "    get_grid(gridmap, z_slider.val, std_slider.val, m)\n",
    "    ax.imshow(gridmap, cmap='Greys')\n",
    "    fig.canvas.draw_idle()\n",
    "\n",
    "std_slider.on_changed(update)\n",
    "z_slider.on_changed(update)\n",
    "\n",
    "plt.show()\n"
   ]
  }
 ],
 "metadata": {
  "kernelspec": {
   "display_name": "Python 3",
   "language": "python",
   "name": "python3"
  },
  "language_info": {
   "codemirror_mode": {
    "name": "ipython",
    "version": 3
   },
   "file_extension": ".py",
   "mimetype": "text/x-python",
   "name": "python",
   "nbconvert_exporter": "python",
   "pygments_lexer": "ipython3",
   "version": "3.7.6"
  }
 },
 "nbformat": 4,
 "nbformat_minor": 4
}
